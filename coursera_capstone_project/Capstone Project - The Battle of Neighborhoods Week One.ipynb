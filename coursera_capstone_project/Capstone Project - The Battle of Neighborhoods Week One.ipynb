{
    "cells": [
        {
            "cell_type": "markdown",
            "metadata": {
                "collapsed": true
            },
            "source": "# WEEK ONE OF CAPSTONE PROJECT:"
        },
        {
            "cell_type": "markdown",
            "metadata": {},
            "source": "\n***\n### Business Problem:\n#### Where would be the best place to open a South African cuisine-themed restaurant in New York?\n\nAs a South African, I have not encountered any South African restaurants in New York City (NYC) that features different aspects of South African cooking. This means there is currently a niche in the market. I know a lot of South Africans in New York alone that miss the comfort of home cooking that brings out nostalgia in customers. South African cuisine varies between areas and cultural groups. There are indigenous dishes that have been created since the Khoisan settlers that came from central Africa. However, South Africa (SA) has been influenced by colonial periods where many other nationalities inhabited South Africa including Dutch, English and Indian. The background of South African food is important because with the many cultures included in cooking, different spices and methods are used to prepare the traditional meals. As the years have progressed, South Africans have immigrated into America at a gradual pace as well as South African tourists, students and workers contributing to the increasing population of South Africans in USA, especially in New York. The diversity of South African cuisine encourages the potential for great success across different ethnic groups. Nando\u2019s is one very popular South African restaurant that has been franchised in other African countries, Europe and USA. However, there are no restaurants located in New York City \u2014 one of the most culturally diverse cities in the country. There are people who have traveled to Maryland and Virginia in order to buy Nando\u2019s. Opening up a Nando\u2019s store in NYC will be analysed to see how much of a success it will be not only for the African population living in NYC \u2014 but for everyone who enjoys chicken in various forms with a wide variety of sides.\n\n***"
        },
        {
            "cell_type": "markdown",
            "metadata": {},
            "source": "***\n### Data Collection:\nUsing FourSquare, I will first search for the current South African restaurants in New York City and analyse their success rates and reviews as well as the neighbourhoods they are situated in. Then I will collect data from internet sources which will display where in the city the most South Africans reside. This will give me a sense of which neighbourhoods to centre the restaurant around to make it local and easily accessible to many South Africans. I will be projecting the amount of South Africans in NYC in 2020 to illustrate the feasibility of having a Nando\u2019s opening in NYCI will be extracting immigration and nonimmigration visa records between 2000-2019 to illustrate the population of South Africans that visit or reside in America perform an analysis to predict how many immigrants are likely to be residing in USA as of 2020. I have access to New York City's data for splitting the city into boroughs and analysing which borough and then neighborhood will be the best fit for the restaurant. I will use various methods in order to filter the data to be presentable and easy to use and understand. Data will be collected by means of webscraping, geo json files and Fouraquare API. Looking at how many South Africans reside in NYC. I have used various methods in order to filter the data to be presentable and easy to use and understand including;merging, concatenation, dropping unnecessary rows and columns and renaming columns.\nI will be collecting data to answer the following questions:\n2.1.1 Are there any South African Restaurants in New York City?\n2.1.2 What is the success of Nando\u2019s Peri Peri restaurant in other USA locations?\n2.1.3 Where would the best place be to open a Nando\u2019s restaurants in NYC?I will be using Foursquare API to determine the restaurant searches\n***"
        }
    ],
    "metadata": {
        "kernelspec": {
            "display_name": "Python 3.6",
            "language": "python",
            "name": "python3"
        },
        "language_info": {
            "codemirror_mode": {
                "name": "ipython",
                "version": 3
            },
            "file_extension": ".py",
            "mimetype": "text/x-python",
            "name": "python",
            "nbconvert_exporter": "python",
            "pygments_lexer": "ipython3",
            "version": "3.6.9"
        }
    },
    "nbformat": 4,
    "nbformat_minor": 1
}
